{
 "cells": [
  {
   "cell_type": "markdown",
   "metadata": {},
   "source": [
    "# Kaggle Submission Step by Step\n"
   ]
  },
  {
   "cell_type": "markdown",
   "metadata": {},
   "source": [
    "** Environment Setup **\n",
    "load with kaggle cli\n",
    "\n",
    "pip install kaggle-cli\n",
    "\n",
    "\n"
   ]
  },
  {
   "cell_type": "markdown",
   "metadata": {
    "collapsed": true
   },
   "source": [
    "** Config kaggle cli **\n",
    "kg config -g -u 'username' -p 'password' -c 'Competettion Name'\n"
   ]
  },
  {
   "cell_type": "code",
   "execution_count": 2,
   "metadata": {
    "collapsed": false
   },
   "outputs": [
    {
     "name": "stderr",
     "output_type": "stream",
     "text": [
      "Using gpu device 0: Tesla K80 (CNMeM is disabled, cuDNN 5103)\n",
      "/home/ubuntu/anaconda2/lib/python2.7/site-packages/theano/sandbox/cuda/__init__.py:600: UserWarning: Your cuDNN version is more recent than the one Theano officially supports. If you see any problems, try updating Theano or downgrading cuDNN to version 5.\n",
      "  warnings.warn(warn)\n",
      "Using Theano backend.\n"
     ]
    }
   ],
   "source": [
    "# import stuff \n",
    "%matplotlib inline\n",
    "path=\"data/redux/\"\n",
    "import utils; reload(utils)\n",
    "from utils import *\n"
   ]
  },
  {
   "cell_type": "code",
   "execution_count": 3,
   "metadata": {
    "collapsed": true
   },
   "outputs": [],
   "source": [
    "batch_size=64\n",
    "valid_size=2000\n",
    "sample_size=200\n"
   ]
  },
  {
   "cell_type": "code",
   "execution_count": 4,
   "metadata": {
    "collapsed": false
   },
   "outputs": [],
   "source": [
    "# % is for magic commands \n",
    "\n",
    "# ! in notebook for the bash commands\n",
    "\n",
    "import os, sys\n",
    "current_dir = os.getcwd()\n",
    "LESSON_HOME_DIR = current_dir\n",
    "DATA_HOME_DIR = current_dir+'/data/redux'\n"
   ]
  },
  {
   "cell_type": "code",
   "execution_count": 5,
   "metadata": {
    "collapsed": false
   },
   "outputs": [
    {
     "name": "stdout",
     "output_type": "stream",
     "text": [
      "/home/ubuntu/notebooks/deeplearningProjects/CatOrDog/data/redux\n"
     ]
    }
   ],
   "source": [
    "# create a directory structure\n",
    "\n",
    "%cd $DATA_HOME_DIR\n",
    "%mkdir valid\n",
    "%mkdir results\n",
    "%mkdir -p sample/train\n",
    "%mkdir -p sample/test\n",
    "%mkdir -p sample/valid\n",
    "%mkdir -p sample/results\n",
    "%mkdir -p test/unknown\n"
   ]
  },
  {
   "cell_type": "code",
   "execution_count": 7,
   "metadata": {
    "collapsed": false
   },
   "outputs": [
    {
     "name": "stdout",
     "output_type": "stream",
     "text": [
      "/home/ubuntu/notebooks/deeplearningProjects/CatOrDog/data/redux/train\n"
     ]
    }
   ],
   "source": [
    "# in case where you dont have the proper directory structure and also to havee\n",
    "# a small data set called sample to work with and also valid data set\n",
    "\n",
    "\n",
    "#get all jpeg image names from train directory\n",
    "\n",
    "%cd $DATA_HOME_DIR/train\n",
    "g=glob('*.jpg')\n",
    "\n",
    "shuf=np.random.permutation(g)\n",
    "\n",
    "for i in range (valid_size): os.rename(shuf[i],'../valid/'+shuf[i])"
   ]
  },
  {
   "cell_type": "code",
   "execution_count": 9,
   "metadata": {
    "collapsed": true
   },
   "outputs": [],
   "source": [
    "from shutil import copyfile"
   ]
  },
  {
   "cell_type": "code",
   "execution_count": 10,
   "metadata": {
    "collapsed": false
   },
   "outputs": [],
   "source": [
    "# create sample data set and copy files to the new folder structure of sample\n",
    "\n",
    "g = glob('*.jpg')\n",
    "shuf = np.random.permutation(g)\n",
    "for i in range(200): copyfile(shuf[i], DATA_HOME_DIR+'/sample/train/' + shuf[i])\n",
    "    "
   ]
  },
  {
   "cell_type": "code",
   "execution_count": 11,
   "metadata": {
    "collapsed": false
   },
   "outputs": [],
   "source": [
    "g = glob('*.jpg')\n",
    "shuf = np.random.permutation(g)\n",
    "for i in range(50): copyfile(shuf[i], DATA_HOME_DIR+'/sample/valid/' + shuf[i])"
   ]
  },
  {
   "cell_type": "code",
   "execution_count": 12,
   "metadata": {
    "collapsed": false
   },
   "outputs": [
    {
     "name": "stdout",
     "output_type": "stream",
     "text": [
      "/home/ubuntu/notebooks/deeplearningProjects/CatOrDog/data/redux/sample/train\n",
      "/home/ubuntu/notebooks/deeplearningProjects/CatOrDog/data/redux/sample/valid\n",
      "/home/ubuntu/notebooks/deeplearningProjects/CatOrDog/data/redux/valid\n",
      "/home/ubuntu/notebooks/deeplearningProjects/CatOrDog/data/redux/train\n"
     ]
    }
   ],
   "source": [
    "# Keras needs class wise data in each directory\n",
    "%cd $DATA_HOME_DIR/sample/train\n",
    "%mkdir cats\n",
    "%mkdir dogs\n",
    "%mv cat.*.jpg cats/\n",
    "%mv dog.*.jpg dogs/\n",
    "\n",
    "%cd $DATA_HOME_DIR/sample/valid\n",
    "%mkdir cats\n",
    "%mkdir dogs\n",
    "%mv cat.*.jpg cats/\n",
    "%mv dog.*.jpg dogs/\n",
    "\n",
    "%cd $DATA_HOME_DIR/valid\n",
    "%mkdir cats\n",
    "%mkdir dogs\n",
    "%mv cat.*.jpg cats/\n",
    "%mv dog.*.jpg dogs/\n",
    "\n",
    "%cd $DATA_HOME_DIR/train\n",
    "%mkdir cats\n",
    "%mkdir dogs\n",
    "%mv cat.*.jpg cats/\n",
    "%mv dog.*.jpg dogs/"
   ]
  },
  {
   "cell_type": "code",
   "execution_count": 13,
   "metadata": {
    "collapsed": false
   },
   "outputs": [
    {
     "name": "stdout",
     "output_type": "stream",
     "text": [
      "/home/ubuntu/notebooks/deeplearningProjects/CatOrDog/data/redux/test\n"
     ]
    }
   ],
   "source": [
    "\n",
    "\n",
    "\n",
    "# For TEST Data create single 'unknown' class\n",
    "%cd $DATA_HOME_DIR/test\n",
    "%mv *.jpg unknown/\n",
    "\n"
   ]
  },
  {
   "cell_type": "markdown",
   "metadata": {},
   "source": [
    "# Modeling and Finetuning\n"
   ]
  },
  {
   "cell_type": "code",
   "execution_count": 14,
   "metadata": {
    "collapsed": false
   },
   "outputs": [
    {
     "name": "stdout",
     "output_type": "stream",
     "text": [
      "/home/ubuntu/notebooks/deeplearningProjects/CatOrDog/data/redux\n"
     ]
    }
   ],
   "source": [
    "%cd $DATA_HOME_DIR\n",
    "\n",
    "path=DATA_HOME_DIR+ '/' # change here to test it with sample data or train data\n",
    "\n",
    "train_path=DATA_HOME_DIR+'/train/'\n",
    "valid_path=DATA_HOME_DIR+'/valid/'\n",
    "test_path=DATA_HOME_DIR+'/test/'\n",
    "\n",
    "results_path=DATA_HOME_DIR+'/results/'\n"
   ]
  },
  {
   "cell_type": "code",
   "execution_count": 15,
   "metadata": {
    "collapsed": true
   },
   "outputs": [],
   "source": [
    "# VGG Model from the tutorial 1\n",
    "\n",
    "vgg=Vgg16()"
   ]
  },
  {
   "cell_type": "code",
   "execution_count": 16,
   "metadata": {
    "collapsed": true
   },
   "outputs": [],
   "source": [
    "batch_size=64\n",
    "no_of_epochs=5"
   ]
  },
  {
   "cell_type": "code",
   "execution_count": 17,
   "metadata": {
    "collapsed": false
   },
   "outputs": [
    {
     "name": "stdout",
     "output_type": "stream",
     "text": [
      "Found 23000 images belonging to 2 classes.\n",
      "Found 2000 images belonging to 2 classes.\n"
     ]
    }
   ],
   "source": [
    "batches=vgg.get_batches(train_path,batch_size=batch_size)\n",
    "val_batches=vgg.get_batches(valid_path,batch_size=2*batch_size)\n",
    "\n",
    "\n",
    "# now fine tune as we have only 2 classes at the end\n",
    "\n",
    "# linear classifier/ logistic at the end layer\n",
    "\n",
    "vgg.finetune(batches)\n",
    "\n",
    "# now set initially learning reate to be 0.01 that needs to be changed once\n",
    "# get some satifying results and need to slow down the rate\n",
    "\n",
    "vgg.model.optimizer.lr=0.01\n",
    "\n",
    "\n",
    "\n",
    "\n",
    "\n",
    "\n"
   ]
  },
  {
   "cell_type": "code",
   "execution_count": null,
   "metadata": {
    "collapsed": false
   },
   "outputs": [
    {
     "name": "stdout",
     "output_type": "stream",
     "text": [
      "Running EPOCH: 0 \n",
      "Epoch 1/1\n",
      "23000/23000 [==============================] - 607s - loss: 0.3570 - acc: 0.9700 - val_loss: 0.3055 - val_acc: 0.9785\n",
      "Running EPOCH: 1 \n",
      "Epoch 1/1\n",
      "23000/23000 [==============================] - 615s - loss: 0.3198 - acc: 0.9764 - val_loss: 0.3194 - val_acc: 0.9780\n",
      "Running EPOCH: 2 \n",
      "Epoch 1/1\n",
      "23000/23000 [==============================] - 615s - loss: 0.3379 - acc: 0.9766 - val_loss: 0.3564 - val_acc: 0.9750\n",
      "Running EPOCH: 3 \n",
      "Epoch 1/1\n",
      "21400/23000 [==========================>...] - ETA: 39s - loss: 0.3365 - acc: 0.9767"
     ]
    }
   ],
   "source": [
    "# now save weights at each step so that it is easy to use them next time instead of \n",
    "# runing the model again and again\n",
    "\n",
    "new_weights_filename=None\n",
    "\n",
    "for aepoch in range (no_of_epochs):\n",
    "    print \"Running EPOCH: %d \" % aepoch\n",
    "    \n",
    "    vgg.fit(batches,val_batches,nb_epoch=1)\n",
    "    \n",
    "    new_weights_filename='ft%d.h5' %aepoch\n",
    "    vgg.model.save_weights(results_path+new_weights_filename)\n",
    "    \n",
    "\n",
    "print \"Learning Complete %s fit operations\" % no_of_epochs\n",
    "\n",
    "\n",
    "\n",
    "\n"
   ]
  },
  {
   "cell_type": "markdown",
   "metadata": {},
   "source": [
    "# Prediction on dataset\n"
   ]
  },
  {
   "cell_type": "code",
   "execution_count": null,
   "metadata": {
    "collapsed": true
   },
   "outputs": [],
   "source": [
    "batches, predictions =vgg.test(test+path,batch_size=batch_size*2)\n",
    "\n"
   ]
  },
  {
   "cell_type": "code",
   "execution_count": null,
   "metadata": {
    "collapsed": true
   },
   "outputs": [],
   "source": [
    "# test function will create 2 classes based on our ordering of the directories\n",
    "\n",
    "# in this case cat is fist column\n",
    "\n",
    "print predictions[:5]\n",
    "filenames=batches.filenames\n",
    "\n",
    "print filenames[:5]\n",
    "\n",
    "# to verify the column ordering the values of test predictions\n",
    "\n",
    "from PIL import \n"
   ]
  },
  {
   "cell_type": "code",
   "execution_count": null,
   "metadata": {
    "collapsed": true
   },
   "outputs": [],
   "source": [
    "# saving test arrays as we have use them for submission\n",
    "# using cobolz library fast storage of arrays\n",
    "\n",
    "\n",
    "save_array(results_path+'test_pred.dat', predictions)\n",
    "save_array(results_path+'filenames.dat',filenames)\n",
    "\n"
   ]
  },
  {
   "cell_type": "markdown",
   "metadata": {},
   "source": [
    "# Validating Predictions:\n",
    "\n"
   ]
  },
  {
   "cell_type": "code",
   "execution_count": null,
   "metadata": {
    "collapsed": true
   },
   "outputs": [],
   "source": [
    "# load weights \n",
    "vgg.model.load_weights(results_path\n",
    "                      +new_weights_filename)\n",
    "\n",
    "val_batches, probs=vgg.test(valid_path,batch_size=batch_size)\n",
    "\n",
    "\n"
   ]
  },
  {
   "cell_type": "code",
   "execution_count": null,
   "metadata": {
    "collapsed": true
   },
   "outputs": [],
   "source": [
    "# get labels \n",
    "\n",
    "filenames=val_batches.filenames\n",
    "expected_lables=val_batches.classes\n",
    "\n",
    "# rounding out the 0/1 to generate labels \n",
    "\n",
    "our_predictions=probs[:0]\n",
    "our_labels=np.round(1-our_predictions)\n",
    "\n",
    "\n",
    "\n"
   ]
  },
  {
   "cell_type": "code",
   "execution_count": null,
   "metadata": {
    "collapsed": true
   },
   "outputs": [],
   "source": [
    "from sklearn.metrics import confusion_matrix\n",
    "cm=confusion_matrix(expected_labels, our_labels)"
   ]
  },
  {
   "cell_type": "code",
   "execution_count": null,
   "metadata": {
    "collapsed": true
   },
   "outputs": [],
   "source": [
    "plot_confusion_matrix(cm,val_batches.class_indices)"
   ]
  },
  {
   "cell_type": "markdown",
   "metadata": {},
   "source": [
    "# How to submit to Kaggle:"
   ]
  },
  {
   "cell_type": "code",
   "execution_count": null,
   "metadata": {
    "collapsed": true
   },
   "outputs": [],
   "source": [
    "preds=load_array(results_path+'test_pred.dat')\n",
    "filenames=load_array(results+path+'filenames.dat')"
   ]
  },
  {
   "cell_type": "code",
   "execution_count": null,
   "metadata": {
    "collapsed": true
   },
   "outputs": [],
   "source": [
    "#Swap all ones with .95 and all zeros with .05\n",
    "isdog = preds[:,1]\n",
    "isdog = isdog.clip(min=0.05, max=0.95)"
   ]
  },
  {
   "cell_type": "code",
   "execution_count": null,
   "metadata": {
    "collapsed": true
   },
   "outputs": [],
   "source": [
    "\n",
    "#Extract imageIds from the filenames in our test/unknown directory \n",
    "filenames = batches.filenames\n",
    "ids = np.array([int(f[8:f.find('.')]) for f in filenames])"
   ]
  },
  {
   "cell_type": "code",
   "execution_count": null,
   "metadata": {
    "collapsed": true
   },
   "outputs": [],
   "source": [
    "# NP Stack will arrange columns\n",
    "\n",
    "subm = np.stack([ids,isdog], axis=1)\n",
    "subm[:5]"
   ]
  },
  {
   "cell_type": "code",
   "execution_count": null,
   "metadata": {
    "collapsed": true
   },
   "outputs": [],
   "source": [
    "%cd $DATA_HOME_DIR\n",
    "submission_file_name = 'submission1.csv'\n",
    "np.savetxt(submission_file_name, subm, fmt='%d,%.5f', header='id,label', comments='')\n"
   ]
  },
  {
   "cell_type": "code",
   "execution_count": null,
   "metadata": {
    "collapsed": true
   },
   "outputs": [],
   "source": [
    "# save file using Ipython in chrome \n",
    "# we can download this and submit to kaggle\n",
    "from IPython.display import FileLink\n",
    "%cd $LESSON_HOME_DIR\n",
    "FileLink('data/redux/'+submission_file_name)\n",
    "\n",
    "\n",
    "\n"
   ]
  }
 ],
 "metadata": {
  "anaconda-cloud": {},
  "kernelspec": {
   "display_name": "Python [default]",
   "language": "python",
   "name": "python2"
  },
  "language_info": {
   "codemirror_mode": {
    "name": "ipython",
    "version": 2
   },
   "file_extension": ".py",
   "mimetype": "text/x-python",
   "name": "python",
   "nbconvert_exporter": "python",
   "pygments_lexer": "ipython2",
   "version": "2.7.12"
  }
 },
 "nbformat": 4,
 "nbformat_minor": 1
}
