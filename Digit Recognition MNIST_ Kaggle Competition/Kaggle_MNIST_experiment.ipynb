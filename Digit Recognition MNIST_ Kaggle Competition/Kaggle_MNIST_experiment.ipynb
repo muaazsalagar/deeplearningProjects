{
 "cells": [
  {
   "cell_type": "markdown",
   "metadata": {
    "_cell_guid": "1db640ad-7c1d-4804-a059-a535a91aaff3",
    "_uuid": "5b4b3f95eec4625583be8504ca34f57907ada588"
   },
   "source": [
    "# Digit Recognizer"
   ]
  },
  {
   "cell_type": "markdown",
   "metadata": {
    "_cell_guid": "0e744e83-2b78-48aa-8cf7-5eae623ab581",
    "_uuid": "032ff49e933889e0c7adad7e51b706af8e4665bb"
   },
   "source": [
    "## 1. notes"
   ]
  },
  {
   "cell_type": "markdown",
   "metadata": {
    "_cell_guid": "84f1a6f3-36d5-412d-b8fa-e8c4339cc93c",
    "_uuid": "2e5a4c99abe88a559f8233c7e0790eeaecb888ea"
   },
   "source": [
    "For best results, set ```sample_fraction``` to 1 and ```epochs``` to 30 or higher.\n",
    "\n",
    "A vote for this notebook is highly appreciated!\n",
    "\n",
    "The latest version of this notebook you find at [Github](http://nbviewer.jupyter.org/github/Brinkhuis/digit_recognizer/blob/master/notebook/cnn_model_advanced.ipynb)."
   ]
  },
  {
   "cell_type": "markdown",
   "metadata": {
    "_cell_guid": "7ebd0c9e-5eaa-473a-a24b-49a911fc0991",
    "_uuid": "f81b4cd7b9346f9a9410295b5191e2f55141e6d3"
   },
   "source": [
    "## 2. import packages"
   ]
  },
  {
   "cell_type": "code",
   "execution_count": null,
   "metadata": {
    "_cell_guid": "3a99aa57-9e4b-4196-8b25-96f077ae5764",
    "_execution_state": "idle",
    "_uuid": "5c5aea2459f8198afbb2256d0c7bb9264b60afc7",
    "collapsed": true
   },
   "outputs": [],
   "source": [
    "# import packages and modules\n",
    "import pandas as pd\n",
    "import numpy as np\n",
    "import matplotlib.pyplot as plt\n",
    "import seaborn as sns\n",
    "import itertools"
   ]
  },
  {
   "cell_type": "code",
   "execution_count": null,
   "metadata": {
    "_cell_guid": "e57949c9-977a-4a1b-a1d0-a06ee5277ff2",
    "_execution_state": "idle",
    "_uuid": "d16c6d6382865ca583b4cf0af1ea2327a501fccb",
    "collapsed": true
   },
   "outputs": [],
   "source": [
    "# import packages and modules\n",
    "from sklearn.model_selection import train_test_split\n",
    "from sklearn.metrics import confusion_matrix\n",
    "from random import randint"
   ]
  },
  {
   "cell_type": "code",
   "execution_count": null,
   "metadata": {
    "_cell_guid": "0a4a82b9-ddb5-4a52-aad8-4325afc6c767",
    "_execution_state": "idle",
    "_uuid": "2e6dd148c2c9e9082a630aeb8b9c6d89e4fdf92d",
    "collapsed": true
   },
   "outputs": [],
   "source": [
    "# import packages and modules\n",
    "from keras.models import Sequential, model_from_json\n",
    "from keras.layers import Dense, Dropout, Flatten, Conv2D, MaxPool2D\n",
    "from keras.utils.np_utils import to_categorical\n",
    "from keras.optimizers import RMSprop\n",
    "from keras.callbacks import ReduceLROnPlateau\n",
    "from keras.preprocessing.image import ImageDataGenerator"
   ]
  },
  {
   "cell_type": "markdown",
   "metadata": {
    "_cell_guid": "bb48d45e-cc6b-4216-8519-624802772992",
    "_uuid": "e07fe0c719eed6b5a57a440267c29baaabe32d99"
   },
   "source": [
    "## 3. settings"
   ]
  },
  {
   "cell_type": "code",
   "execution_count": null,
   "metadata": {
    "_cell_guid": "cf062dcd-b5d9-4a4b-960b-62ae54bf5849",
    "_execution_state": "idle",
    "_uuid": "82af32afee547920c827ba799a72fa5fdcaf9c45",
    "collapsed": true
   },
   "outputs": [],
   "source": [
    "# random seed for reproducibility\n",
    "seed = 777\n",
    "np.random.seed(seed)"
   ]
  },
  {
   "cell_type": "code",
   "execution_count": null,
   "metadata": {
    "_cell_guid": "9988be5a-2085-41e3-afcf-456b82be2941",
    "_execution_state": "idle",
    "_uuid": "483175d9ce4164ba7ba97ae861bb591b0cdb7cd3",
    "collapsed": true
   },
   "outputs": [],
   "source": [
    "# fraction for data sampling\n",
    "sample_fraction = .1 # fraction = 1 is no sampling (i.e. all train data is used to train the model)"
   ]
  },
  {
   "cell_type": "code",
   "execution_count": null,
   "metadata": {
    "_cell_guid": "352fdb59-edf0-4036-82ed-92fc844cc275",
    "_execution_state": "idle",
    "_uuid": "03f4bb4200f7ba4ac3ecb334ba6b9f0f48e1e14e",
    "collapsed": true
   },
   "outputs": [],
   "source": [
    "# fraction for splitting test data from train data\n",
    "split_fraction = 0.1"
   ]
  },
  {
   "cell_type": "code",
   "execution_count": null,
   "metadata": {
    "_cell_guid": "10a54d62-9c60-4b6a-9d31-f92b5e369e7b",
    "_execution_state": "idle",
    "_uuid": "a108e5c83df4aafd4f7e4dd094304afc04b693ce",
    "collapsed": true
   },
   "outputs": [],
   "source": [
    "# number of epochs\n",
    "epochs = 10"
   ]
  },
  {
   "cell_type": "code",
   "execution_count": null,
   "metadata": {
    "_cell_guid": "eb8be246-dca1-499b-8088-29638e668c80",
    "_execution_state": "idle",
    "_uuid": "75042b2fb181744a8f2be1809d04f57a7ff80573",
    "collapsed": true
   },
   "outputs": [],
   "source": [
    "# batch size\n",
    "batch_size = 64"
   ]
  },
  {
   "cell_type": "markdown",
   "metadata": {
    "_cell_guid": "b7801557-2fae-4e0c-a1d7-0f577c6e627e",
    "_uuid": "c45c2a9c0b8fda724a587f0b33900aa30ab75968"
   },
   "source": [
    "## 4. data preparation"
   ]
  },
  {
   "cell_type": "markdown",
   "metadata": {
    "_cell_guid": "e08c0dd5-7c3e-42a6-96c0-8f2a620e23f0",
    "_uuid": "e2df18e58a33361300649707228855c5d8fa59b4"
   },
   "source": [
    "### 4.1 read data"
   ]
  },
  {
   "cell_type": "code",
   "execution_count": null,
   "metadata": {
    "_cell_guid": "86543e1f-a7a8-4f16-b106-c8f4e5822555",
    "_execution_state": "idle",
    "_uuid": "2289fe208a80099bf31b76d61bafea75da4b69bf",
    "collapsed": true
   },
   "outputs": [],
   "source": [
    "# read data files\n",
    "train = pd.read_csv('../input/train.csv')\n",
    "test = pd.read_csv('../input/test.csv')"
   ]
  },
  {
   "cell_type": "markdown",
   "metadata": {
    "_cell_guid": "10cbb403-5085-4a6f-a4d6-2fe9062b078f",
    "_uuid": "f442d773cf50199c2b37ca27d320d2299dbd72ea"
   },
   "source": [
    "### 4.2 sample data"
   ]
  },
  {
   "cell_type": "code",
   "execution_count": null,
   "metadata": {
    "_cell_guid": "5fd85f16-17cb-4dc2-887d-d02327cc8423",
    "_execution_state": "idle",
    "_uuid": "aab235622122b3319ef35f83610b6a7959273659",
    "collapsed": true
   },
   "outputs": [],
   "source": [
    "# sample train data\n",
    "if not (sample_fraction > 0 and sample_fraction < 1):\n",
    "    print('Data not sampled, all {} data points will be used!'.format(train.shape[0]))\n",
    "else:\n",
    "    print('Data sampled, {} data points will be used instead of all {} data points!'.format(round(train.shape[0] * sample_fraction), train.shape[0]))\n",
    "    train = train.sample(frac = sample_fraction, random_state = seed)   "
   ]
  },
  {
   "cell_type": "markdown",
   "metadata": {
    "_cell_guid": "035932dd-8996-4208-8cdf-51f05c4f6558",
    "_uuid": "54f67246c255a382b7316b0f50734fb6e3e669bd"
   },
   "source": [
    "### 4.3 validate data"
   ]
  },
  {
   "cell_type": "code",
   "execution_count": null,
   "metadata": {
    "_cell_guid": "57fe56ac-9294-4d55-b2c0-a2c542957b19",
    "_execution_state": "idle",
    "_uuid": "72dec0704392b9b78379eb617555b517698a5d3f",
    "collapsed": true
   },
   "outputs": [],
   "source": [
    "# check for null values\n",
    "assert train.isnull().sum().sum() == 0, 'Null values found in train.'\n",
    "assert test.isnull().sum().sum() == 0, 'Null values found in test.'"
   ]
  },
  {
   "cell_type": "markdown",
   "metadata": {
    "_cell_guid": "372a6dd5-d560-4d1d-812f-e5d9ad094fea",
    "_uuid": "eb061c7b4fb6b12b6aaa9f4097d2f1d0f3eaf1c2"
   },
   "source": [
    "### 4.4 separate data"
   ]
  },
  {
   "cell_type": "code",
   "execution_count": null,
   "metadata": {
    "_cell_guid": "36086b5b-60a1-46b7-be1e-f459c3b2046a",
    "_execution_state": "idle",
    "_uuid": "0f8ace5968d5394eb90f684197d5a4e562d4d6d3",
    "collapsed": true
   },
   "outputs": [],
   "source": [
    "# store labels and pixels in separate arrays\n",
    "y_train = train.iloc[:, 0].values.astype('uint8') # labels\n",
    "X_train = train.iloc[:, 1:].values.astype('float32') # pixels\n",
    "X = test.values.astype('float32') # pixels"
   ]
  },
  {
   "cell_type": "code",
   "execution_count": null,
   "metadata": {
    "_cell_guid": "ee82dc84-c6b2-470a-a597-820d6a2c6dab",
    "_execution_state": "idle",
    "_uuid": "2bd2c067494bfd32438f05b7a58fcef22e63166c",
    "collapsed": true
   },
   "outputs": [],
   "source": [
    "# delete dataframes\n",
    "del train\n",
    "del test"
   ]
  },
  {
   "cell_type": "markdown",
   "metadata": {
    "_cell_guid": "020e7efb-06aa-403c-9014-d9a521a12be8",
    "_uuid": "657c9ecd6b6fb97cfae0429c9e42f7d1fefa33b8"
   },
   "source": [
    "### 4.5 inspect data"
   ]
  },
  {
   "cell_type": "code",
   "execution_count": null,
   "metadata": {
    "_cell_guid": "01594f98-e032-481f-938a-f1948f74162c",
    "_execution_state": "idle",
    "_uuid": "6280783aea74fdf50ff7fd58166151b30d8eace7",
    "collapsed": true
   },
   "outputs": [],
   "source": [
    "# show minimum and maximum values\n",
    "pd.DataFrame([[np.amin(y_train), np.amin(X_train), np.amin(X)], \n",
    "              [np.amax(y_train), np.amax(X_train), np.amax(X)]], \n",
    "             columns = ['y_train', 'X_train', 'X'], \n",
    "             index = ['min', 'max'])"
   ]
  },
  {
   "cell_type": "code",
   "execution_count": null,
   "metadata": {
    "_cell_guid": "a6dcf1c2-8e18-4175-9755-ecb134b333a8",
    "_execution_state": "idle",
    "_uuid": "984333377d2919fc8190443735114bbff71942b5",
    "collapsed": true
   },
   "outputs": [],
   "source": [
    "#show memory usage\n",
    "pd.DataFrame([round(y_train.nbytes / 1024 ** 2, 2), round(X_train.nbytes / 1024 ** 2, 2), round(X.nbytes/ 1024 ** 2, 2)], \n",
    "             index = ['y_train', 'X_train', 'X'], \n",
    "             columns = ['memory usage (MB)'])"
   ]
  },
  {
   "cell_type": "code",
   "execution_count": null,
   "metadata": {
    "_cell_guid": "f8590ac1-04e2-4841-bebe-98ac6cfa747a",
    "_execution_state": "idle",
    "_uuid": "ab5afc6a5b131f2ac4d95cffe204f9499ea932ba",
    "collapsed": true
   },
   "outputs": [],
   "source": [
    "# plot label distribution\n",
    "sns.set(style='white', context = 'notebook')\n",
    "sns.countplot(y_train, color = 'royalblue')\n",
    "plt.show()"
   ]
  },
  {
   "cell_type": "code",
   "execution_count": null,
   "metadata": {
    "_cell_guid": "cf72f399-ddb3-4359-830a-8ea8969d3786",
    "_execution_state": "idle",
    "_uuid": "42bf3127cfb48c95bccfa9a7b44610d6dfd92fe2",
    "collapsed": true
   },
   "outputs": [],
   "source": [
    "# plot the first occurence of every digit\n",
    "for i in range(0, 10):\n",
    "    plt.subplot(2, 5, i + 1)\n",
    "    plt.imshow(np.reshape(X_train[[np.where(y_train == i)[0][0] for i in range(10)][i]], (28, 28)),\n",
    "               cmap=plt.get_cmap('gray_r')) # gray is the default grayscale; gray_r is inverse grayscale\n",
    "    plt.title('index {}'.format([np.where(y_train == i)[0][0] for i in range(10)][i]));\n",
    "    plt.xticks([]) # hide xticks\n",
    "    plt.yticks([]) # hide yticks\n",
    "plt.show()"
   ]
  },
  {
   "cell_type": "code",
   "execution_count": null,
   "metadata": {
    "_cell_guid": "2e5cd641-3387-4a6b-bb63-8aceee56ba6a",
    "_execution_state": "idle",
    "_uuid": "e273cf18ed6f47fcd1a5a9e690c19ea38a7773b8",
    "collapsed": true
   },
   "outputs": [],
   "source": [
    "# plot the first ten occurences of every digit\n",
    "n = 10\n",
    "plt.figure(figsize = (8, 8))\n",
    "for i in range(0, 10):\n",
    "    a = np.where(y_train == i)[0]\n",
    "    for j in range(0, n):\n",
    "        plt.subplot(10, n, i * n + j + 1)\n",
    "        plt.imshow(np.reshape(X_train[a[j]], (28, 28)), cmap = plt.get_cmap('gray_r'))\n",
    "        plt.axis('off')\n",
    "plt.show()\n",
    "del n"
   ]
  },
  {
   "cell_type": "markdown",
   "metadata": {
    "_cell_guid": "e255a82e-66fa-4012-a58d-794e6dd69372",
    "_uuid": "03335838bb89fbe0cc374fb15d0eb926a253315a"
   },
   "source": [
    "### 4.6 normalize data"
   ]
  },
  {
   "cell_type": "code",
   "execution_count": null,
   "metadata": {
    "_cell_guid": "0bfab041-4f8d-4aaf-a39e-07c2c8757477",
    "_execution_state": "idle",
    "_uuid": "fd5e0b8f383d1bd47769af8c13cbb438d5fd5cae",
    "collapsed": true
   },
   "outputs": [],
   "source": [
    "# normalize the data\n",
    "X_train /= 255\n",
    "X /= 255"
   ]
  },
  {
   "cell_type": "markdown",
   "metadata": {
    "_cell_guid": "02123a1c-e6bd-47c4-b0e9-5155c7c173cc",
    "_uuid": "14bec8ad68ff3494468ce53bcfa3b9b84e99c8c9"
   },
   "source": [
    "### 4.7 reshape data"
   ]
  },
  {
   "cell_type": "code",
   "execution_count": null,
   "metadata": {
    "_cell_guid": "b6bf05ec-26a3-4d95-a557-65e721c74f5c",
    "_execution_state": "idle",
    "_uuid": "afac592c03cdb1a02a1ad81c891d873ca100d834",
    "collapsed": true
   },
   "outputs": [],
   "source": [
    "# reshape data\n",
    "X_train = X_train.reshape(-1,28,28,1)\n",
    "X = X.reshape(-1,28,28,1)\n",
    "\n",
    "pd.DataFrame([str(X_train.shape), str(X.shape)], \n",
    "             index = ['X_train', 'X'], \n",
    "             columns = ['shape'])"
   ]
  },
  {
   "cell_type": "markdown",
   "metadata": {
    "_cell_guid": "153b04c9-f189-4421-9548-494097c04c4c",
    "_uuid": "eb7ecf5b8dbb7c7028a180f6886c7f1c9b4f57be"
   },
   "source": [
    "### 4.8 encode labels"
   ]
  },
  {
   "cell_type": "code",
   "execution_count": null,
   "metadata": {
    "_cell_guid": "6c88163e-1d60-4126-a06d-09f44daac94f",
    "_execution_state": "idle",
    "_uuid": "a7480d096d5c33a994392490bd241e1d4ed493fc",
    "collapsed": true
   },
   "outputs": [],
   "source": [
    "# encode labels to one hot vectors\n",
    "y_train = to_categorical(y_train, num_classes = len(np.unique(y_train)))"
   ]
  },
  {
   "cell_type": "code",
   "execution_count": null,
   "metadata": {
    "_cell_guid": "04236ecf-8930-4965-b208-028d0b12cea5",
    "_execution_state": "idle",
    "_uuid": "8ff166205c04ea247f2f26b24949a6395ee07101",
    "collapsed": true
   },
   "outputs": [],
   "source": [
    "# visualize random label on a hot vector\n",
    "fig, ax = plt.subplots()\n",
    "ax.set_xticks(list(range(10)))\n",
    "ax.set_yticks(list(range(2)))\n",
    "ax.xaxis.set_ticks_position('top')\n",
    "ax.plot(y_train[randint(0, y_train.shape[0])])\n",
    "plt.show()"
   ]
  },
  {
   "cell_type": "markdown",
   "metadata": {
    "_cell_guid": "dd3af5ae-10b5-4475-8744-857bae4eb988",
    "_uuid": "60baba49c9a9cdf1defd58cd404c9072fc2ca5fa"
   },
   "source": [
    "### 4.6 split train/test"
   ]
  },
  {
   "cell_type": "code",
   "execution_count": null,
   "metadata": {
    "_cell_guid": "c15683ca-3e50-4d99-b3af-5e2e226c3046",
    "_execution_state": "idle",
    "_uuid": "774948c18ea14e675cb2e84805e2e6e4a7233070",
    "collapsed": true
   },
   "outputs": [],
   "source": [
    "# split the train and the validation set for the fitting\n",
    "X_train, X_test, y_train, y_test = train_test_split(X_train, y_train, test_size = split_fraction, random_state = seed)"
   ]
  },
  {
   "cell_type": "markdown",
   "metadata": {
    "_cell_guid": "58260761-ff66-44a2-b177-368eca546bb2",
    "_uuid": "92f51db6a1fc0cea999a8fd299367f4dcdab9dbc"
   },
   "source": [
    "## 5. create model"
   ]
  },
  {
   "cell_type": "markdown",
   "metadata": {
    "_cell_guid": "3db5d994-3ed2-4f29-a533-898ea1582849",
    "_uuid": "fb5696b3b909441d6fe23c519f1d430efaa7e69e"
   },
   "source": [
    "### 5.1 define model"
   ]
  },
  {
   "cell_type": "code",
   "execution_count": null,
   "metadata": {
    "_cell_guid": "451299db-ea4e-4af5-813c-ccc2f5aa0fbf",
    "_execution_state": "idle",
    "_uuid": "845ba46e6899d97c341ba8d438520747277d0c61",
    "collapsed": true
   },
   "outputs": [],
   "source": [
    "# create model\n",
    "model = Sequential()\n",
    "\n",
    "model.add(Conv2D(filters = 32, kernel_size = (5,5), padding = 'Same', activation = 'relu', input_shape = (28,28,1)))\n",
    "model.add(Conv2D(filters = 32, kernel_size = (5,5), padding = 'Same', activation = 'relu'))\n",
    "model.add(MaxPool2D(pool_size = (2,2)))\n",
    "model.add(Dropout(0.25))\n",
    "\n",
    "model.add(Conv2D(filters = 64, kernel_size = (3,3), padding = 'Same', activation = 'relu'))\n",
    "model.add(Conv2D(filters = 64, kernel_size = (3,3), padding = 'Same', activation = 'relu'))\n",
    "model.add(MaxPool2D(pool_size = (2,2), strides = (2,2)))\n",
    "model.add(Dropout(0.25))\n",
    "\n",
    "model.add(Conv2D(filters = 128, kernel_size = (3,3), padding = 'Same', activation = 'relu'))\n",
    "model.add(Conv2D(filters = 128, kernel_size = (3,3), padding = 'Same', activation = 'relu'))\n",
    "model.add(MaxPool2D(pool_size = (2,2), strides = (2,2)))\n",
    "model.add(Dropout(0.25))\n",
    "\n",
    "model.add(Conv2D(filters = 256, kernel_size = (3,3), padding = 'Same', activation = 'relu'))\n",
    "model.add(Conv2D(filters = 256, kernel_size = (3,3), padding = 'Same', activation = 'relu'))\n",
    "model.add(MaxPool2D(pool_size = (3,3), strides = (3,3)))\n",
    "model.add(Dropout(0.25))\n",
    "\n",
    "\n",
    "\n",
    "\n",
    "model.add(Flatten())\n",
    "model.add(Dense(1024, activation = 'relu'))\n",
    "model.add(Dropout(0.5))\n",
    "\n",
    "\n",
    "model.add(Dense(10, activation = 'softmax'))"
   ]
  },
  {
   "cell_type": "code",
   "execution_count": null,
   "metadata": {
    "_cell_guid": "b489afff-70ba-4fe9-9476-6c8dafda32d6",
    "_execution_state": "idle",
    "_uuid": "7d423d3cf4b8d0015c3a2f3f43d2747a401c3fb7",
    "collapsed": true
   },
   "outputs": [],
   "source": [
    "# model summary\n",
    "model.summary()"
   ]
  },
  {
   "cell_type": "markdown",
   "metadata": {
    "_cell_guid": "ec3c824b-d276-481a-8e46-be12c5fc0fd4",
    "_uuid": "f48f65387e2412cc11c227a854d0ba1094a8be58"
   },
   "source": [
    "### 5.2 compile model"
   ]
  },
  {
   "cell_type": "code",
   "execution_count": null,
   "metadata": {
    "_cell_guid": "66f29f2e-02ae-47a1-95f6-9c3b54f51971",
    "_execution_state": "idle",
    "_uuid": "6140c20a35d8e98b108d025c5aedc08016389060",
    "collapsed": true
   },
   "outputs": [],
   "source": [
    "# define the optimizer\n",
    "optimizer = RMSprop(lr = 0.001, rho = 0.9, epsilon = 1e-08, decay = 0.0)"
   ]
  },
  {
   "cell_type": "code",
   "execution_count": null,
   "metadata": {
    "_cell_guid": "1d986d96-a8d2-4934-92e0-6775e4c3d5c8",
    "_execution_state": "idle",
    "_uuid": "1ab5a20773762017be61e92154f508c6523be14d",
    "collapsed": true
   },
   "outputs": [],
   "source": [
    "# compile the model\n",
    "model.compile(optimizer = optimizer, loss = 'categorical_crossentropy', metrics = ['accuracy'])"
   ]
  },
  {
   "cell_type": "markdown",
   "metadata": {
    "_cell_guid": "fc72e586-4336-4fa7-8402-98b6cf523d31",
    "_uuid": "761f20996d7aa792de1e6836685178e53ff4a01e"
   },
   "source": [
    "### 5.3 learning rate annealing"
   ]
  },
  {
   "cell_type": "code",
   "execution_count": null,
   "metadata": {
    "_cell_guid": "f781bcb7-0a8a-4ee6-8d8f-3e61c75f96b1",
    "_execution_state": "idle",
    "_uuid": "1e7316cabe25d59725e28cfd64a4b82807325daa",
    "collapsed": true
   },
   "outputs": [],
   "source": [
    "# set learning rate annealer\n",
    "learning_rate_reduction = ReduceLROnPlateau(monitor = 'val_acc', patience = 3, verbose = 0, factor = 0.5, min_lr = 0.00001)"
   ]
  },
  {
   "cell_type": "markdown",
   "metadata": {
    "_cell_guid": "583d5369-de48-43d7-bc61-2eaa7a8524ed",
    "_uuid": "173f86ecf7c17118e370804ae8e355365777eb30"
   },
   "source": [
    "### 5.4 data augmentation"
   ]
  },
  {
   "cell_type": "code",
   "execution_count": null,
   "metadata": {
    "_cell_guid": "7e1413d3-4b7d-48ee-b7c6-bd1359ac9b16",
    "_execution_state": "idle",
    "_uuid": "aed26235830b21d7ac6166aa7401767c61a07d0e",
    "collapsed": true
   },
   "outputs": [],
   "source": [
    "# set arguments real-time data augmentation\n",
    "datagen = ImageDataGenerator(featurewise_center = False,\n",
    "                             samplewise_center = False,\n",
    "                             featurewise_std_normalization = False,\n",
    "                             samplewise_std_normalization = False,\n",
    "                             zca_whitening = False,\n",
    "                             rotation_range = 20,\n",
    "                             zoom_range = 0.1,\n",
    "                             width_shift_range = 0.1,\n",
    "                             height_shift_range = 0.1,\n",
    "                             horizontal_flip = False,\n",
    "                             vertical_flip = False)"
   ]
  },
  {
   "cell_type": "code",
   "execution_count": null,
   "metadata": {
    "_cell_guid": "7f3a95ba-ce63-4e21-a0ad-508cb69ff830",
    "_execution_state": "idle",
    "_uuid": "d2251e5b82a7b50727ed6053ebcf2ff3e2169478",
    "collapsed": true
   },
   "outputs": [],
   "source": [
    "# compute quantities required for featurewise normalization\n",
    "datagen.fit(X_train)"
   ]
  },
  {
   "cell_type": "markdown",
   "metadata": {
    "_cell_guid": "d4b0cd69-b8ab-4f2b-87ce-2eb300f75167",
    "_uuid": "4ada22541ef89ad0b8001315c2474e88befca653"
   },
   "source": [
    "### 5.3 train model"
   ]
  },
  {
   "cell_type": "code",
   "execution_count": null,
   "metadata": {
    "_cell_guid": "0ef35f5a-b3ec-4028-8bb9-622845e47074",
    "_execution_state": "idle",
    "_uuid": "266f0845ebac4f9bb1d1c4f53d971adf9883b27c",
    "collapsed": true,
    "scrolled": true
   },
   "outputs": [],
   "source": [
    "# fit the model\n",
    "history = model.fit_generator(datagen.flow(X_train, y_train, batch_size = batch_size),\n",
    "                              epochs = epochs, validation_data = (X_test, y_test),\n",
    "                              verbose = 0, steps_per_epoch = X_train.shape[0] // batch_size, \n",
    "                              callbacks = [learning_rate_reduction])"
   ]
  },
  {
   "cell_type": "code",
   "execution_count": null,
   "metadata": {
    "_cell_guid": "2641b82e-cfd1-4a84-9a37-6040fe9e7e53",
    "_execution_state": "idle",
    "_uuid": "dc9ba80cbc78a0264a8781cb31f31dad38a57b9b",
    "collapsed": true
   },
   "outputs": [],
   "source": [
    "# list all keys in history\n",
    "pd.DataFrame(list(history.history.keys()), \n",
    "             columns = ['dict_keys']).set_index('dict_keys')"
   ]
  },
  {
   "cell_type": "code",
   "execution_count": null,
   "metadata": {
    "_cell_guid": "e0c022cb-79ac-420c-a338-054f01826630",
    "_execution_state": "idle",
    "_uuid": "ab26df64115185bfe898c1cf6ef2117ccc8ba4dc",
    "collapsed": true
   },
   "outputs": [],
   "source": [
    "# create dataframe to store absolute distance between train and test accuracy\n",
    "acc = pd.DataFrame({'train': history.history['acc'], 'test': history.history['val_acc']})\n",
    "acc['abs_dist'] = abs(acc.iloc[:, 0] - acc.iloc[:, 1])"
   ]
  },
  {
   "cell_type": "code",
   "execution_count": null,
   "metadata": {
    "_cell_guid": "bd956013-be55-4530-8e0e-8969156bf79d",
    "_execution_state": "idle",
    "_uuid": "d3f5d610b5f355f1c5b69ebb14717b3992b5e529",
    "collapsed": true
   },
   "outputs": [],
   "source": [
    "# summarize history for accuracy\n",
    "plt.figure(figsize = (12, 6))\n",
    "plt.plot(history.history['acc'], color = 'blue')\n",
    "plt.plot(history.history['val_acc'], color = 'red')\n",
    "\n",
    "# dots to mark maximum accuracy for train\n",
    "for i, x in [(i, x) for i, x in enumerate(history.history['acc']) if x == max(history.history['acc'])]:\n",
    "    plt.plot(i, x, marker = 'o', markersize = 12, color = 'blue', linestyle = '')\n",
    "\n",
    "# dots to mark maximum accuracy for test\n",
    "for i, x in [(i, x) for i, x in enumerate(history.history['val_acc']) if x == max(history.history['val_acc'])]:\n",
    "    plt.plot(i, x, marker = 'o', markersize = 12, color = 'red', linestyle = '')\n",
    "\n",
    "# dots to mark closest accuracy for train and test\n",
    "for i in acc.loc[acc['abs_dist'] == min(acc['abs_dist'])].index:\n",
    "    plt.plot(i, acc.iloc[i, 0], marker = 'o', markersize = 8, color = 'yellow', linestyle = '')\n",
    "for i in acc.loc[acc['abs_dist'] == min(acc['abs_dist'])].index:\n",
    "    plt.plot(i, acc.iloc[i, 1], marker = 'o', markersize = 8, color = 'yellow', linestyle = '')\n",
    "\n",
    "plt.title('model accuracy')\n",
    "plt.ylabel('accuracy')\n",
    "plt.xlabel('epoch')\n",
    "plt.legend(['train', 'test'], loc = 'best')\n",
    "plt.show()"
   ]
  },
  {
   "cell_type": "code",
   "execution_count": null,
   "metadata": {
    "_cell_guid": "c55af43d-f7eb-4a90-a776-453b24bb5267",
    "_execution_state": "idle",
    "_uuid": "bd01e8cfcbc18c40abb3d8edd2d8dede9e94b8d9",
    "collapsed": true
   },
   "outputs": [],
   "source": [
    "# accuracy summary\n",
    "pd.DataFrame([[acc['train'].max(), list(acc.loc[acc['train'] == acc['train'].max()].index)], \n",
    "              [acc['test'].max(), list(acc.loc[acc['test'] == acc['test'].max()].index)],\n",
    "              [acc['abs_dist'].min(), list(acc.loc[acc['abs_dist'] == acc['abs_dist'].min()].index)]], \n",
    "             columns = ['value', 'epoch'], \n",
    "             index = ['maximum accuracy train', 'maximum accuracy test', 'minimum distance train and test accuracy'])"
   ]
  },
  {
   "cell_type": "code",
   "execution_count": null,
   "metadata": {
    "_cell_guid": "f6c95198-32cd-423e-9e05-9ae7e26f36ce",
    "_execution_state": "idle",
    "_uuid": "f9349de951c0606d0ccda236345216fc565dc776",
    "collapsed": true
   },
   "outputs": [],
   "source": [
    "# create dataframe to store absolute distance between train and test loss\n",
    "loss = pd.DataFrame({'train': history.history['loss'], 'test': history.history['val_loss']})\n",
    "loss['abs_dist'] = abs(loss.iloc[:,0] - loss.iloc[:,1])"
   ]
  },
  {
   "cell_type": "code",
   "execution_count": null,
   "metadata": {
    "_cell_guid": "d651b96e-017c-4760-9518-78475b39b5b3",
    "_execution_state": "idle",
    "_uuid": "09342fa02a3eb01c39aafe2f2669da2c1dafd92b",
    "collapsed": true
   },
   "outputs": [],
   "source": [
    "# summarize history for loss\n",
    "plt.figure(figsize = (12, 6))\n",
    "plt.plot(history.history['loss'], color = 'blue')\n",
    "plt.plot(history.history['val_loss'], color = 'red')\n",
    "\n",
    "# dots to mark minimum loss for train\n",
    "for i, x in [(i, x) for i, x in enumerate(history.history['loss']) if x == min(history.history['loss'])]:\n",
    "    plt.plot(i, x, marker = 'o', markersize = 12, color = 'blue', linestyle = '')\n",
    "\n",
    "# dots to mark minimum loss for test\n",
    "for i, x in [(i, x) for i, x in enumerate(history.history['val_loss']) if x == min(history.history['val_loss'])]:\n",
    "    plt.plot(i, x, marker = 'o', markersize = 12, color = 'red', linestyle = '')\n",
    "\n",
    "# dots to mark closest loss for train and test\n",
    "for i in loss.loc[loss['abs_dist'] == min(loss['abs_dist'])].index:\n",
    "    plt.plot(i, loss.iloc[i, 0], marker = 'o', markersize = 8, color = 'yellow', linestyle = '')\n",
    "for i in loss.loc[loss['abs_dist'] == min(loss['abs_dist'])].index:\n",
    "    plt.plot(i, loss.iloc[i, 1], marker = 'o', markersize = 8, color = 'yellow', linestyle = '')\n",
    "\n",
    "plt.title('model loss')\n",
    "plt.ylabel('loss')\n",
    "plt.xlabel('epoch')\n",
    "plt.legend(['train', 'test'], loc = 'best')\n",
    "plt.show()"
   ]
  },
  {
   "cell_type": "code",
   "execution_count": null,
   "metadata": {
    "_cell_guid": "f5a8b09a-11c7-440f-a9b6-cd0575bf4f4b",
    "_execution_state": "idle",
    "_uuid": "a780c13df3d4327268c6b6497f4649d2cdeb5cb8",
    "collapsed": true
   },
   "outputs": [],
   "source": [
    "pd.DataFrame([[loss['train'].min(), list(loss.loc[loss['train'] == loss['train'].min()].index)], \n",
    "              [loss['test'].min(), list(loss.loc[loss['test'] == loss['test'].min()].index)],\n",
    "              [loss['abs_dist'].min(), list(loss.loc[loss['abs_dist'] == loss['abs_dist'].min()].index)]], \n",
    "             columns = ['value', 'epoch'], \n",
    "             index = ['minimum loss train', 'minimum loss test', 'minimum distance train and test loss'])"
   ]
  },
  {
   "cell_type": "code",
   "execution_count": null,
   "metadata": {
    "_cell_guid": "2f510d77-a4ed-4b95-886b-d8b682dbc7bb",
    "_execution_state": "idle",
    "_uuid": "8ecd1de73cf14671ccb1e6619e8630fc1132e49a",
    "collapsed": true
   },
   "outputs": [],
   "source": [
    "# Plot the loss and accuracy curves for training and validation \n",
    "fig, ax = plt.subplots(2, 1)\n",
    "\n",
    "ax[0].plot(history.history['loss'], color = 'blue', label = 'Training loss')\n",
    "ax[0].plot(history.history['val_loss'], color = 'red', label = 'validation loss', axes = ax[0])\n",
    "legend = ax[0].legend(loc='best', shadow = True)\n",
    "\n",
    "ax[1].plot(history.history['acc'], color = 'blue', label = 'Training accuracy')\n",
    "ax[1].plot(history.history['val_acc'], color = 'red', label= 'Validation accuracy')\n",
    "legend = ax[1].legend(loc = 'best', shadow = True)\n",
    "\n",
    "plt.show()"
   ]
  },
  {
   "cell_type": "markdown",
   "metadata": {
    "_cell_guid": "eeae9030-81e9-4d51-a7ce-59dac9eea15a",
    "_uuid": "43205e217e9296819b6e0ca8459d4d27c22ba2f8"
   },
   "source": [
    "### 5.4 evaluate model"
   ]
  },
  {
   "cell_type": "code",
   "execution_count": null,
   "metadata": {
    "_cell_guid": "bd501a0f-6868-493e-b0c9-3d0d19dfb7e1",
    "_execution_state": "idle",
    "_uuid": "bff70787814d6e66562f246903c79ebe862ed357",
    "collapsed": true
   },
   "outputs": [],
   "source": [
    "# baseline error\n",
    "scores = model.evaluate(X_train, y_train, verbose = 0)\n",
    "print('Baseline Error: {:.2f}%'.format(100-scores[1] * 100))"
   ]
  },
  {
   "cell_type": "code",
   "execution_count": null,
   "metadata": {
    "_cell_guid": "626fcaeb-c426-4c78-ad25-613c507a89fc",
    "_execution_state": "idle",
    "_uuid": "368508e50f8f6c501602eda223548e418e6ac928",
    "collapsed": true
   },
   "outputs": [],
   "source": [
    "# define plot confusion matrix\n",
    "def plot_confusion_matrix(cm, classes, title = 'Confusion matrix', cmap = plt.cm.Blues):\n",
    "    '''\n",
    "    This function prints and plots the confusion matrix.\n",
    "    '''\n",
    "    plt.imshow(cm, interpolation = 'nearest', cmap = cmap)\n",
    "    plt.title(title)\n",
    "    plt.colorbar()\n",
    "    tick_marks = np.arange(len(classes))\n",
    "    plt.xticks(tick_marks, classes, rotation = 0)\n",
    "    plt.yticks(tick_marks, classes)\n",
    "    thresh = cm.max() / 2\n",
    "    for i, j in itertools.product(range(cm.shape[0]), range(cm.shape[1])):\n",
    "        plt.text(j, i, cm[i, j],\n",
    "                 horizontalalignment = 'center',\n",
    "                 verticalalignment = 'center',\n",
    "                 color = 'white' if cm[i, j] > thresh else 'black')\n",
    "    plt.tight_layout()\n",
    "    plt.ylabel('True label')\n",
    "    plt.xlabel('Predicted label')\n",
    "    plt.show()"
   ]
  },
  {
   "cell_type": "code",
   "execution_count": null,
   "metadata": {
    "_cell_guid": "85a750a8-5606-4d60-92be-9235ea178509",
    "_execution_state": "idle",
    "_uuid": "33e81561e9b17c81de67bba85543cc5e65eea0b5",
    "collapsed": true
   },
   "outputs": [],
   "source": [
    "# confusion matrix\n",
    "predicted_labels_ohv = model.predict(X_train) # predicted labels (one hot vector format)\n",
    "predicted_labels = np.argmax(predicted_labels_ohv, axis = 1) # convert one-hot-vectors to predictions labels\n",
    "true_labels = np.argmax(y_train, axis = 1) # convert the one-hot-vectors to validation observations (mapping the true labels)\n",
    "confusion_mtx = confusion_matrix(true_labels, predicted_labels)"
   ]
  },
  {
   "cell_type": "code",
   "execution_count": null,
   "metadata": {
    "_cell_guid": "35924c1d-1bf2-434b-8fcc-6a2304aaf104",
    "_execution_state": "idle",
    "_uuid": "eb824e9ac079727c6e67b757ebb48654335d868c",
    "collapsed": true
   },
   "outputs": [],
   "source": [
    "# print confusion matrix\n",
    "print(confusion_mtx)"
   ]
  },
  {
   "cell_type": "code",
   "execution_count": null,
   "metadata": {
    "_cell_guid": "d94ebfc7-8e7a-488a-8bdc-77ecb0cc91f1",
    "_execution_state": "idle",
    "_uuid": "f23ec182de0a68b866ac7223aefd10d861815807",
    "collapsed": true
   },
   "outputs": [],
   "source": [
    "# plot confusion matrix\n",
    "plot_confusion_matrix(confusion_mtx, classes = range(y_train.shape[1]))"
   ]
  },
  {
   "cell_type": "code",
   "execution_count": null,
   "metadata": {
    "_cell_guid": "ce1d1585-1f61-43c7-86fe-d154bb2f1294",
    "_execution_state": "idle",
    "_uuid": "c23e80152671bd63d866a05134fff7354159f4b7",
    "collapsed": true
   },
   "outputs": [],
   "source": [
    "# create confusion table\n",
    "conf_tbl = []\n",
    "for i in range(10):\n",
    "    for j in range(10):\n",
    "        tmp = [i, j, confusion_mtx[i, j]]\n",
    "        conf_tbl.append(tmp)\n",
    "del tmp\n",
    "confusion_tbl = pd.DataFrame(conf_tbl, columns = ['True label', 'Predicted label', 'Count'])"
   ]
  },
  {
   "cell_type": "code",
   "execution_count": null,
   "metadata": {
    "_cell_guid": "7e78bc1d-68a9-4be0-bfc4-c1d2c92c4caa",
    "_execution_state": "idle",
    "_uuid": "b84a6614eff936c8b73452de275eab2fa559d8cc",
    "collapsed": true
   },
   "outputs": [],
   "source": [
    "# top 5 prediction errors\n",
    "confusion_tbl.loc[(confusion_tbl['True label'] != confusion_tbl['Predicted label']) \n",
    "                  & (confusion_tbl['Count'] != 0)].sort_values(ascending = False, by = 'Count').head(5).set_index(['True label', 'Predicted label'])"
   ]
  },
  {
   "cell_type": "code",
   "execution_count": null,
   "metadata": {
    "_cell_guid": "d2b48376-40bc-49ee-af1c-9e7384d8f71e",
    "_execution_state": "idle",
    "_uuid": "1de520befb0e2f476535f7881e075df8433a0230",
    "collapsed": true
   },
   "outputs": [],
   "source": [
    "# predictions errors per label\n",
    "confusion_tbl.loc[(confusion_tbl['True label'] != confusion_tbl['Predicted label']) \n",
    "                  & (confusion_tbl['Count'] != 0), ['True label', 'Count']].groupby('True label').sum().sort_values(ascending = False, by = 'Count')"
   ]
  },
  {
   "cell_type": "markdown",
   "metadata": {
    "_cell_guid": "c30ed315-5add-40f5-a8fd-6e16599dfe88",
    "_uuid": "4b11474109f28e2172634dc0e837ec66a57b6535"
   },
   "source": [
    "## 6. save model"
   ]
  },
  {
   "cell_type": "code",
   "execution_count": null,
   "metadata": {
    "_cell_guid": "2bfe5aef-dc0f-4c54-a2f7-17dcc41a91c2",
    "_execution_state": "idle",
    "_uuid": "f6e14937c8436544afa9824fd2afcc8d311815e8",
    "collapsed": true
   },
   "outputs": [],
   "source": [
    "# serialize model to JSON\n",
    "model_json = model.to_json()\n",
    "with open('model.json', 'w') as json_file:\n",
    "    json_file.write(model_json)"
   ]
  },
  {
   "cell_type": "code",
   "execution_count": null,
   "metadata": {
    "_cell_guid": "0b5b4371-6a16-4d2f-bef9-31d06a973756",
    "_execution_state": "idle",
    "_uuid": "7dedf328e3ae887112aa43287ab40796a9b0baba",
    "collapsed": true
   },
   "outputs": [],
   "source": [
    "# serialize weights to HDF5\n",
    "model.save_weights('model.h5')"
   ]
  },
  {
   "cell_type": "markdown",
   "metadata": {
    "_cell_guid": "b9266408-19a2-444d-b22a-d1054dd694e3",
    "_uuid": "8f27038e9aad57dc0894eb6b67a458fa1304e0a8"
   },
   "source": [
    "## 7. load model"
   ]
  },
  {
   "cell_type": "code",
   "execution_count": null,
   "metadata": {
    "_cell_guid": "5b75d279-1332-40ea-b314-b29aa98c779b",
    "_execution_state": "idle",
    "_uuid": "da300c617ccadc95acee45727adf4ea9fd8dfdbd",
    "collapsed": true
   },
   "outputs": [],
   "source": [
    "# load json and create model\n",
    "json_file = open('model.json', 'r')\n",
    "loaded_model_json = json_file.read()\n",
    "json_file.close()\n",
    "loaded_model = model_from_json(loaded_model_json)"
   ]
  },
  {
   "cell_type": "code",
   "execution_count": null,
   "metadata": {
    "_cell_guid": "1ff2ac8c-7063-4a81-a4e2-c0cbafe4f142",
    "_execution_state": "idle",
    "_uuid": "91a68c7a2fe064617808538d33dd51c80ce2fc6a",
    "collapsed": true
   },
   "outputs": [],
   "source": [
    "# load weights into model\n",
    "loaded_model.load_weights('model.h5')"
   ]
  },
  {
   "cell_type": "code",
   "execution_count": null,
   "metadata": {
    "_cell_guid": "32316e7d-f0de-4dd3-a728-8b2161f521e0",
    "_execution_state": "idle",
    "_uuid": "622ba6f40bbfdb6961a65d0b3d17aec7e4373acd",
    "collapsed": true
   },
   "outputs": [],
   "source": [
    "# compile loaded model\n",
    "loaded_model.compile(optimizer = optimizer , loss = 'categorical_crossentropy', metrics = ['accuracy'])"
   ]
  },
  {
   "cell_type": "markdown",
   "metadata": {
    "_cell_guid": "b3d597b6-6c1b-47a4-bddc-1eb519caef0c",
    "_uuid": "3ab4a26d8192a17da6c626926c04416b37927e17"
   },
   "source": [
    "## 8. make predictions"
   ]
  },
  {
   "cell_type": "code",
   "execution_count": null,
   "metadata": {
    "_cell_guid": "d6d02285-fb42-4c63-9623-5b8c434fb443",
    "_execution_state": "idle",
    "_uuid": "d7cd2b029ca1b92b668e910f305dda8a8453df44",
    "collapsed": true
   },
   "outputs": [],
   "source": [
    "# preditions with loaded model\n",
    "predictions = loaded_model.predict_classes(X, verbose = 0)"
   ]
  },
  {
   "cell_type": "markdown",
   "metadata": {
    "_cell_guid": "c7d9304f-8049-4319-a786-d3d0266aefb3",
    "_uuid": "f75bd766abc9e91b538f575af910fa96971be302"
   },
   "source": [
    "## 9. save predictions"
   ]
  },
  {
   "cell_type": "code",
   "execution_count": null,
   "metadata": {
    "_cell_guid": "b1c87de4-baa3-4dc5-9a3e-6534834556fa",
    "_execution_state": "idle",
    "_uuid": "94bbad37cabb4337f3c936c4e919de550bd77b54",
    "collapsed": true
   },
   "outputs": [],
   "source": [
    "# save predictions to file\n",
    "preds = pd.DataFrame({'ImageId': list(range(1, len(predictions) + 1)), 'Label': predictions})\n",
    "preds.to_csv('predictions.csv', index = False, header = True)\n",
    "from IPython.display import FileLink\n",
    "FileLink('predictions.csv')"
   ]
  },
  {
   "cell_type": "code",
   "execution_count": null,
   "metadata": {
    "_cell_guid": "48db00d7-0b7b-48db-b89b-dfea5ee25b8c",
    "_execution_state": "idle",
    "_uuid": "5b0dd46823aa3be4b8e33ac387f6ac660aea4391",
    "collapsed": true
   },
   "outputs": [],
   "source": []
  }
 ],
 "metadata": {
  "kernelspec": {
   "display_name": "Python 2",
   "language": "python",
   "name": "python2"
  },
  "language_info": {
   "codemirror_mode": {
    "name": "ipython",
    "version": 2
   },
   "file_extension": ".py",
   "mimetype": "text/x-python",
   "name": "python",
   "nbconvert_exporter": "python",
   "pygments_lexer": "ipython2",
   "version": "2.7.13"
  }
 },
 "nbformat": 4,
 "nbformat_minor": 1
}
