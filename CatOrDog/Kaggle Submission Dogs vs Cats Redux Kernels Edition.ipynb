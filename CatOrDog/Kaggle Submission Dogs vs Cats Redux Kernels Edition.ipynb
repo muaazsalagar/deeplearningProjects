{
 "cells": [
  {
   "cell_type": "markdown",
   "metadata": {},
   "source": [
    "# Kaggle Submission Step by Step\n"
   ]
  },
  {
   "cell_type": "markdown",
   "metadata": {},
   "source": [
    "** Environment Setup **\n",
    "load with kaggle cli\n",
    "\n",
    "pip install kaggle-cli\n",
    "\n",
    "\n"
   ]
  },
  {
   "cell_type": "markdown",
   "metadata": {
    "collapsed": true
   },
   "source": [
    "** Config kaggle cli **\n",
    "kg config -g -u 'username' -p 'password' -c 'Competettion Name'\n"
   ]
  },
  {
   "cell_type": "code",
   "execution_count": 3,
   "metadata": {
    "collapsed": false
   },
   "outputs": [],
   "source": [
    "# import stuff \n",
    "%matplotlib inline\n",
    "path=\"data/redux/\"\n",
    "import utils; reload(utils)\n",
    "from utils import *\n"
   ]
  },
  {
   "cell_type": "code",
   "execution_count": 10,
   "metadata": {
    "collapsed": true
   },
   "outputs": [],
   "source": [
    "batch_size=64\n",
    "valid_size=2000\n",
    "sample_size=200\n"
   ]
  },
  {
   "cell_type": "code",
   "execution_count": 11,
   "metadata": {
    "collapsed": false
   },
   "outputs": [
    {
     "name": "stdout",
     "output_type": "stream",
     "text": [
      "[Errno 2] No such file or directory: 'data/redux/'\n",
      "/home/ubuntu/notebooks/deeplearningProjects/CatOrDog/data/redux/train\n"
     ]
    }
   ],
   "source": [
    "# % is for magic commands \n",
    "\n",
    "# ! in notebook for the bash commands\n",
    "\n",
    "%cd data/redux/\n"
   ]
  },
  {
   "cell_type": "code",
   "execution_count": 12,
   "metadata": {
    "collapsed": false
   },
   "outputs": [
    {
     "name": "stdout",
     "output_type": "stream",
     "text": [
      "[Errno 2] No such file or directory: 'train/'\n",
      "/home/ubuntu/notebooks/deeplearningProjects/CatOrDog/data/redux/train\n"
     ]
    }
   ],
   "source": [
    "%cd train/"
   ]
  },
  {
   "cell_type": "code",
   "execution_count": 16,
   "metadata": {
    "collapsed": true
   },
   "outputs": [],
   "source": [
    "%mkdir ../valid"
   ]
  },
  {
   "cell_type": "code",
   "execution_count": 17,
   "metadata": {
    "collapsed": false
   },
   "outputs": [],
   "source": [
    "# in case where you dont have the proper directory structure and also to havee\n",
    "# a small data set called sample to work with and also valid data set\n",
    "\n",
    "\n",
    "#get all jpeg image names from directory\n",
    "\n",
    "g=glob('*.jpg')\n",
    "\n",
    "shuf=np.random.permutation(g)\n",
    "\n",
    "for i in range (valid_size): os.rename(shuf[i],'../valid/'+shuf[i])"
   ]
  },
  {
   "cell_type": "code",
   "execution_count": 18,
   "metadata": {
    "collapsed": true
   },
   "outputs": [],
   "source": [
    "# now once you have data in valid directory create required dir structure in valid\n",
    "\n",
    "%mkdir ../sample\n",
    "%mkdir ../sample/train\n",
    "%mkdir ../sample/valid\n",
    "\n",
    "\n"
   ]
  },
  {
   "cell_type": "code",
   "execution_count": 19,
   "metadata": {
    "collapsed": true
   },
   "outputs": [],
   "source": [
    "from shutil import copyfile"
   ]
  },
  {
   "cell_type": "code",
   "execution_count": 20,
   "metadata": {
    "collapsed": true
   },
   "outputs": [],
   "source": [
    "# create sample data set and copy files to the new folder structure of sample\n",
    "g=glob('*.jpg')\n",
    "shuf=np.random.permutation(g)\n",
    "for i in range (sample_size): copyfile(shuf[i],'../sample/train/'+shuf[i])"
   ]
  },
  {
   "cell_type": "code",
   "execution_count": null,
   "metadata": {
    "collapsed": true
   },
   "outputs": [],
   "source": []
  }
 ],
 "metadata": {
  "anaconda-cloud": {},
  "kernelspec": {
   "display_name": "Python [default]",
   "language": "python",
   "name": "python2"
  },
  "language_info": {
   "codemirror_mode": {
    "name": "ipython",
    "version": 2
   },
   "file_extension": ".py",
   "mimetype": "text/x-python",
   "name": "python",
   "nbconvert_exporter": "python",
   "pygments_lexer": "ipython2",
   "version": "2.7.12"
  }
 },
 "nbformat": 4,
 "nbformat_minor": 1
}
