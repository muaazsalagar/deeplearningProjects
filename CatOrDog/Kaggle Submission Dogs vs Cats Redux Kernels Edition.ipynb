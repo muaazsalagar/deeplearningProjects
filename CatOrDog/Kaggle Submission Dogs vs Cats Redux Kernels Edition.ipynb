{
 "cells": [
  {
   "cell_type": "markdown",
   "metadata": {},
   "source": [
    "# Kaggle Submission Step by Step\n"
   ]
  },
  {
   "cell_type": "markdown",
   "metadata": {},
   "source": [
    "** Environment Setup **\n",
    "load with kaggle cli\n",
    "\n",
    "pip install kaggle-cli\n",
    "\n",
    "\n"
   ]
  },
  {
   "cell_type": "markdown",
   "metadata": {
    "collapsed": true
   },
   "source": [
    "** Config kaggle cli **\n",
    "kg config -g -u 'username' -p 'password' -c 'Competettion Name'\n"
   ]
  },
  {
   "cell_type": "code",
   "execution_count": 2,
   "metadata": {
    "collapsed": false
   },
   "outputs": [
    {
     "name": "stderr",
     "output_type": "stream",
     "text": [
      "Using gpu device 0: Tesla K80 (CNMeM is disabled, cuDNN 5103)\n",
      "/home/ubuntu/anaconda2/lib/python2.7/site-packages/theano/sandbox/cuda/__init__.py:600: UserWarning: Your cuDNN version is more recent than the one Theano officially supports. If you see any problems, try updating Theano or downgrading cuDNN to version 5.\n",
      "  warnings.warn(warn)\n",
      "Using Theano backend.\n"
     ]
    }
   ],
   "source": [
    "# import stuff \n",
    "%matplotlib inline\n",
    "path=\"data/redux/\"\n",
    "import utils; reload(utils)\n",
    "from utils import *\n"
   ]
  },
  {
   "cell_type": "code",
   "execution_count": 3,
   "metadata": {
    "collapsed": true
   },
   "outputs": [],
   "source": [
    "batch_size=64\n",
    "valid_size=2000\n",
    "sample_size=200\n"
   ]
  },
  {
   "cell_type": "code",
   "execution_count": 4,
   "metadata": {
    "collapsed": false
   },
   "outputs": [],
   "source": [
    "# % is for magic commands \n",
    "\n",
    "# ! in notebook for the bash commands\n",
    "\n",
    "import os, sys\n",
    "current_dir = os.getcwd()\n",
    "LESSON_HOME_DIR = current_dir\n",
    "DATA_HOME_DIR = current_dir+'/data/redux'\n"
   ]
  },
  {
   "cell_type": "code",
   "execution_count": 5,
   "metadata": {
    "collapsed": false
   },
   "outputs": [
    {
     "name": "stdout",
     "output_type": "stream",
     "text": [
      "/home/ubuntu/notebooks/deeplearningProjects/CatOrDog/data/redux\n"
     ]
    }
   ],
   "source": [
    "# create a directory structure\n",
    "\n",
    "%cd $DATA_HOME_DIR\n",
    "%mkdir valid\n",
    "%mkdir results\n",
    "%mkdir -p sample/train\n",
    "%mkdir -p sample/test\n",
    "%mkdir -p sample/valid\n",
    "%mkdir -p sample/results\n",
    "%mkdir -p test/unknown\n"
   ]
  },
  {
   "cell_type": "code",
   "execution_count": 7,
   "metadata": {
    "collapsed": false
   },
   "outputs": [
    {
     "name": "stdout",
     "output_type": "stream",
     "text": [
      "/home/ubuntu/notebooks/deeplearningProjects/CatOrDog/data/redux/train\n"
     ]
    }
   ],
   "source": [
    "# in case where you dont have the proper directory structure and also to havee\n",
    "# a small data set called sample to work with and also valid data set\n",
    "\n",
    "\n",
    "#get all jpeg image names from train directory\n",
    "\n",
    "%cd $DATA_HOME_DIR/train\n",
    "g=glob('*.jpg')\n",
    "\n",
    "shuf=np.random.permutation(g)\n",
    "\n",
    "for i in range (valid_size): os.rename(shuf[i],'../valid/'+shuf[i])"
   ]
  },
  {
   "cell_type": "code",
   "execution_count": 9,
   "metadata": {
    "collapsed": true
   },
   "outputs": [],
   "source": [
    "from shutil import copyfile"
   ]
  },
  {
   "cell_type": "code",
   "execution_count": 10,
   "metadata": {
    "collapsed": false
   },
   "outputs": [],
   "source": [
    "# create sample data set and copy files to the new folder structure of sample\n",
    "\n",
    "g = glob('*.jpg')\n",
    "shuf = np.random.permutation(g)\n",
    "for i in range(200): copyfile(shuf[i], DATA_HOME_DIR+'/sample/train/' + shuf[i])\n",
    "    "
   ]
  },
  {
   "cell_type": "code",
   "execution_count": 11,
   "metadata": {
    "collapsed": false
   },
   "outputs": [],
   "source": [
    "g = glob('*.jpg')\n",
    "shuf = np.random.permutation(g)\n",
    "for i in range(50): copyfile(shuf[i], DATA_HOME_DIR+'/sample/valid/' + shuf[i])"
   ]
  },
  {
   "cell_type": "code",
   "execution_count": 12,
   "metadata": {
    "collapsed": false
   },
   "outputs": [
    {
     "name": "stdout",
     "output_type": "stream",
     "text": [
      "/home/ubuntu/notebooks/deeplearningProjects/CatOrDog/data/redux/sample/train\n",
      "/home/ubuntu/notebooks/deeplearningProjects/CatOrDog/data/redux/sample/valid\n",
      "/home/ubuntu/notebooks/deeplearningProjects/CatOrDog/data/redux/valid\n",
      "/home/ubuntu/notebooks/deeplearningProjects/CatOrDog/data/redux/train\n"
     ]
    }
   ],
   "source": [
    "# Keras needs class wise data in each directory\n",
    "%cd $DATA_HOME_DIR/sample/train\n",
    "%mkdir cats\n",
    "%mkdir dogs\n",
    "%mv cat.*.jpg cats/\n",
    "%mv dog.*.jpg dogs/\n",
    "\n",
    "%cd $DATA_HOME_DIR/sample/valid\n",
    "%mkdir cats\n",
    "%mkdir dogs\n",
    "%mv cat.*.jpg cats/\n",
    "%mv dog.*.jpg dogs/\n",
    "\n",
    "%cd $DATA_HOME_DIR/valid\n",
    "%mkdir cats\n",
    "%mkdir dogs\n",
    "%mv cat.*.jpg cats/\n",
    "%mv dog.*.jpg dogs/\n",
    "\n",
    "%cd $DATA_HOME_DIR/train\n",
    "%mkdir cats\n",
    "%mkdir dogs\n",
    "%mv cat.*.jpg cats/\n",
    "%mv dog.*.jpg dogs/"
   ]
  },
  {
   "cell_type": "code",
   "execution_count": 13,
   "metadata": {
    "collapsed": false
   },
   "outputs": [
    {
     "name": "stdout",
     "output_type": "stream",
     "text": [
      "/home/ubuntu/notebooks/deeplearningProjects/CatOrDog/data/redux/test\n"
     ]
    }
   ],
   "source": [
    "\n",
    "\n",
    "\n",
    "# For TEST Data create single 'unknown' class\n",
    "%cd $DATA_HOME_DIR/test\n",
    "%mv *.jpg unknown/\n",
    "\n"
   ]
  },
  {
   "cell_type": "markdown",
   "metadata": {},
   "source": [
    "# Modeling and Finetuning\n"
   ]
  },
  {
   "cell_type": "code",
   "execution_count": 14,
   "metadata": {
    "collapsed": false
   },
   "outputs": [
    {
     "name": "stdout",
     "output_type": "stream",
     "text": [
      "/home/ubuntu/notebooks/deeplearningProjects/CatOrDog/data/redux\n"
     ]
    }
   ],
   "source": [
    "%cd $DATA_HOME_DIR\n",
    "\n",
    "path=DATA_HOME_DIR+ '/' # change here to test it with sample data or train data\n",
    "\n",
    "train_path=DATA_HOME_DIR+'/train/'\n",
    "valid_path=DATA_HOME_DIR+'/valid/'\n",
    "test_path=DATA_HOME_DIR+'/test/'\n",
    "\n",
    "results_path=DATA_HOME_DIR+'/results/'\n"
   ]
  },
  {
   "cell_type": "code",
   "execution_count": 15,
   "metadata": {
    "collapsed": true
   },
   "outputs": [],
   "source": [
    "# VGG Model from the tutorial 1\n",
    "\n",
    "vgg=Vgg16()"
   ]
  },
  {
   "cell_type": "code",
   "execution_count": 16,
   "metadata": {
    "collapsed": true
   },
   "outputs": [],
   "source": [
    "batch_size=64\n",
    "no_of_epochs=5"
   ]
  },
  {
   "cell_type": "code",
   "execution_count": 17,
   "metadata": {
    "collapsed": false
   },
   "outputs": [
    {
     "name": "stdout",
     "output_type": "stream",
     "text": [
      "Found 23000 images belonging to 2 classes.\n",
      "Found 2000 images belonging to 2 classes.\n"
     ]
    }
   ],
   "source": [
    "batches=vgg.get_batches(train_path,batch_size=batch_size)\n",
    "val_batches=vgg.get_batches(valid_path,batch_size=2*batch_size)\n",
    "\n",
    "\n",
    "# now fine tune as we have only 2 classes at the end\n",
    "\n",
    "# linear classifier/ logistic at the end layer\n",
    "\n",
    "vgg.finetune(batches)\n",
    "\n",
    "# now set initially learning reate to be 0.01 that needs to be changed once\n",
    "# get some satifying results and need to slow down the rate\n",
    "\n",
    "vgg.model.optimizer.lr=0.01\n",
    "\n",
    "\n",
    "\n",
    "\n",
    "\n",
    "\n"
   ]
  },
  {
   "cell_type": "code",
   "execution_count": null,
   "metadata": {
    "collapsed": true
   },
   "outputs": [],
   "source": [
    "# now save weights at each step so that it is easy to use them next time instead of \n",
    "# runing the model again and again\n",
    "\n",
    "new_weights_filename=None\n",
    "\n",
    "\n",
    "\n"
   ]
  }
 ],
 "metadata": {
  "anaconda-cloud": {},
  "kernelspec": {
   "display_name": "Python [default]",
   "language": "python",
   "name": "python2"
  },
  "language_info": {
   "codemirror_mode": {
    "name": "ipython",
    "version": 2
   },
   "file_extension": ".py",
   "mimetype": "text/x-python",
   "name": "python",
   "nbconvert_exporter": "python",
   "pygments_lexer": "ipython2",
   "version": "2.7.12"
  }
 },
 "nbformat": 4,
 "nbformat_minor": 1
}
